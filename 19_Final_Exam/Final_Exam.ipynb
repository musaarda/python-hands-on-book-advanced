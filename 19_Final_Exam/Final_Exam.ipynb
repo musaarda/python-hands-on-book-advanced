{
 "cells": [
  {
   "cell_type": "markdown",
   "metadata": {},
   "source": [
    "## Final Exam"
   ]
  },
  {
   "cell_type": "markdown",
   "metadata": {},
   "source": [
    "The Final Exam, includes the topics we have covered so far. \n",
    "\n",
    "It is a multiple choice exam with 20 questions. \n",
    "\n",
    "Each question is 5 points, which makes 100 points in total. \n",
    "\n",
    "You should get at least 70 points to be successful. \n",
    "\n",
    "The duration is 120 minutes."
   ]
  },
  {
   "cell_type": "markdown",
   "metadata": {},
   "source": [
    "**Questions:**\n",
    "\n",
    "| Topic | Questions |\n",
    "| --- | --- |\n",
    "| Collections  | 2 |\n",
    "| Iterators | 2 |\n",
    "| Generators | 2 |\n",
    "| Date and Time | 2 |\n",
    "| Decorators | 2 |\n",
    "| Context Managers | 2 |\n",
    "| Functional Programming | 2 |\n",
    "| Regular Expressions | 2 |\n",
    "| Database Operations | 2 |\n",
    "| Concurrency | 2 |\n",
    "| **Total** | **20** |"
   ]
  },
  {
   "cell_type": "markdown",
   "metadata": {},
   "source": [
    "---"
   ]
  },
  {
   "cell_type": "markdown",
   "metadata": {},
   "source": [
    "**Q 1:**\n",
    "\n",
    "We have some dummy text as: \"lorem ipsum dolor sit amet consectetur adipiscing elit\".\n",
    "\n",
    "We want to count occurrences of each letter in this text.\n",
    "\n",
    "We will print the most common four letters in this text.\n",
    "\n",
    "We don't want to count space characters.\n",
    "\n",
    "Which function below can succeed this task?"
   ]
  },
  {
   "cell_type": "raw",
   "metadata": {},
   "source": [
    "# A\n",
    "\n",
    "from collections import Counter\n",
    "\n",
    "text = \"lorem ipsum dolor sit amet consectetur adipiscing elit\"\n",
    "\n",
    "def count_and_print_most_common(text):\n",
    "    text_counter = Counter(text)\n",
    "    return text_counter.most_common(4)\n",
    "\n",
    "most_5 = count_and_print_most_common(text)\n",
    "print(most_5)"
   ]
  },
  {
   "cell_type": "raw",
   "metadata": {},
   "source": [
    "# B\n",
    "\n",
    "from collections import Counter\n",
    "\n",
    "text = \"lorem ipsum dolor sit amet consectetur adipiscing elit\"\n",
    "\n",
    "def count_and_print_most_common(text):\n",
    "    text = ''.join(text.split())\n",
    "    text_counter = Counter(text)\n",
    "    return text_counter.most_common(4)\n",
    "\n",
    "most_5 = count_and_print_most_common(text)\n",
    "print(most_5)"
   ]
  },
  {
   "cell_type": "raw",
   "metadata": {},
   "source": [
    "# C\n",
    "\n",
    "from collections import Counter\n",
    "\n",
    "text = \"lorem ipsum dolor sit amet consectetur adipiscing elit\"\n",
    "\n",
    "def count_and_print_most_common(text):\n",
    "    text = ''.join(text.split())\n",
    "    text_counter = Counter(text)\n",
    "    return text_counter\n",
    "\n",
    "most_5 = count_and_print_most_common(text)\n",
    "print(most_5)"
   ]
  },
  {
   "cell_type": "raw",
   "metadata": {},
   "source": [
    "# D\n",
    "\n",
    "from collections import Counter\n",
    "\n",
    "text = \"lorem ipsum dolor sit amet consectetur adipiscing elit\"\n",
    "\n",
    "def count_and_print_most_common(text):\n",
    "    text = ''.join(text.split())\n",
    "    return text.most_common(4)\n",
    "\n",
    "most_5 = count_and_print_most_common(text)\n",
    "print(most_5)"
   ]
  },
  {
   "cell_type": "markdown",
   "metadata": {},
   "source": [
    "---"
   ]
  },
  {
   "cell_type": "markdown",
   "metadata": {},
   "source": [
    "**Q 2:**\n",
    "\n",
    "We want to define a namedtuple as SuperHero.\n",
    "\n",
    "SuperHero has three attributes:\n",
    "* hero\n",
    "* name\n",
    "* age\n",
    "\n",
    "Create two SuperHero instance as follows:\n",
    "* Batman, Bruce Wayne, 28\n",
    "* Superman, Clark Kent, 26\n",
    "\n",
    "We will print the names of SuperHeroes using keys as follows:\n",
    "* Bruce Wayne is Batman\n",
    "* Clark Kent is Superman\n",
    "\n",
    "Which option can print this output?"
   ]
  },
  {
   "cell_type": "raw",
   "metadata": {},
   "source": [
    "# A-\n",
    "\n",
    "from collections import namedtuple\n",
    " \n",
    "SuperHero = namedtuple(['hero', 'name', 'age'])\n",
    "\n",
    "S_1 = SuperHero('Batman', 'Bruce Wayne', '28')\n",
    "S_2 = SuperHero('Superman', 'Clark Kent', '26')\n",
    " \n",
    "print(f\"{S_1.name} is {S_1.hero}\")\n",
    "print(f\"{S_2.name} is {S_2.hero}\")"
   ]
  },
  {
   "cell_type": "raw",
   "metadata": {},
   "source": [
    "# B-\n",
    "\n",
    "from collections import namedtuple\n",
    " \n",
    "SuperHero = namedtuple('SuperHero', 'hero', 'name', 'age')\n",
    "\n",
    "S_1 = SuperHero('Batman', 'Bruce Wayne', '28')\n",
    "S_2 = SuperHero('Superman', 'Clark Kent', '26')\n",
    " \n",
    "print(f\"{S_1.name} is {S_1.hero}\")\n",
    "print(f\"{S_2.name} is {S_2.hero}\")"
   ]
  },
  {
   "cell_type": "raw",
   "metadata": {},
   "source": [
    "# C-\n",
    "\n",
    "from collections import namedtuple\n",
    " \n",
    "SuperHero = namedtuple('SuperHero', ['hero', 'name', 'age'])\n",
    "\n",
    "S_1 = SuperHero('Batman', 'Bruce Wayne', '28')\n",
    "S_2 = SuperHero('Superman', 'Clark Kent', '26')\n",
    " \n",
    "print(f\"{S_1.name} is {S_1.hero}\")\n",
    "print(f\"{S_2.name} is {S_2.hero}\")"
   ]
  },
  {
   "cell_type": "raw",
   "metadata": {},
   "source": [
    "# D-\n",
    "\n",
    "from collections import namedtuple\n",
    " \n",
    "SuperHero = namedtuple('SuperHero', ['hero', 'name', 'age'])\n",
    "\n",
    "S_1 = SuperHero('Batman', 'Bruce Wayne', '28')\n",
    "S_2 = SuperHero('Superman', 'Clark Kent', '26')\n",
    " \n",
    "print(f\"{S_1.hero} is {S_1.name}\")\n",
    "print(f\"{S_2.hero} is {S_2.name}\")"
   ]
  },
  {
   "cell_type": "markdown",
   "metadata": {},
   "source": [
    "---"
   ]
  },
  {
   "cell_type": "markdown",
   "metadata": {},
   "source": [
    "**Q 3:**\n",
    "\n",
    "In Python, Iterator objects are required to support two special methods, which together form the Iterator Protocol.\n",
    "\n",
    "What are these methods?"
   ]
  },
  {
   "cell_type": "raw",
   "metadata": {},
   "source": [
    "A-\n",
    "\n",
    "* __init__()\n",
    "* __self__()"
   ]
  },
  {
   "cell_type": "raw",
   "metadata": {},
   "source": [
    "B-\n",
    "\n",
    "* __init__()\n",
    "* __iter__()"
   ]
  },
  {
   "cell_type": "raw",
   "metadata": {},
   "source": [
    "C-\n",
    "\n",
    "* __next__()\n",
    "* __call__()"
   ]
  },
  {
   "cell_type": "raw",
   "metadata": {},
   "source": [
    "D-\n",
    "\n",
    "* __iter__()\n",
    "* __next__()"
   ]
  },
  {
   "cell_type": "markdown",
   "metadata": {},
   "source": [
    "---"
   ]
  },
  {
   "cell_type": "markdown",
   "metadata": {},
   "source": [
    "**Q 4:**\n",
    "\n",
    "Define an iterator class which will generate a sequence of odd numbers like 1, 3, 5, 7, 9, … etc.\n",
    "\n",
    "Class name will be OddsIterator.\n",
    "\n",
    "Instantiate an object of this class with name odd_numbers.\n",
    "\n",
    "The odd_numbers object will be an iterator that provides odd numbers from 1 to 19.\n",
    "\n",
    "Print the odd numbers using this object inside a for loop.\n",
    "\n",
    "Make sure it raises StopIteration exception if you want to print a number bigger than 19.\n",
    "\n",
    "Which one below is NOT a correct definition for this iterator?"
   ]
  },
  {
   "cell_type": "raw",
   "metadata": {},
   "source": [
    "# A-\n",
    "\n",
    "class OddsIterator:\n",
    "    def __init__(self, limit):\n",
    "        self.current = 1\n",
    "        self.limit = limit\n",
    "\n",
    "    def __iter__(self):\n",
    "        return self\n",
    "\n",
    "    def __next__(self):\n",
    "        if self.current <= self.limit:\n",
    "            current_value = self.current\n",
    "            self.current += 2\n",
    "            return current_value\n",
    "\n",
    "odd_numbers = OddsIterator(19)\n",
    "\n",
    "for i in range(20):\n",
    "    print(odd_numbers.__next__())"
   ]
  },
  {
   "cell_type": "raw",
   "metadata": {},
   "source": [
    "# B-\n",
    "\n",
    "class OddsIterator:\n",
    "    def __init__(self, limit):\n",
    "        self.current = 1\n",
    "        self.limit = limit\n",
    "\n",
    "    def __iter__(self):\n",
    "        return self\n",
    "\n",
    "    def __next__(self):\n",
    "        if self.current <= self.limit:\n",
    "            current_value = self.current\n",
    "            self.current += 2\n",
    "            return current_value\n",
    "        \n",
    "        raise StopIteration\n",
    "\n",
    "odd_numbers = OddsIterator(19)\n",
    "\n",
    "for i in range(20):\n",
    "    print(next(odd_numbers))"
   ]
  },
  {
   "cell_type": "raw",
   "metadata": {},
   "source": [
    "# C-\n",
    "\n",
    "class OddsIterator:\n",
    "    def __init__(self, limit):\n",
    "        self.current = 1\n",
    "        self.limit = limit\n",
    "\n",
    "    def __iter__(self):\n",
    "        return self\n",
    "\n",
    "    def __next__(self):\n",
    "        if self.current <= self.limit:\n",
    "            current_value = self.current\n",
    "            self.current += 2\n",
    "            return current_value\n",
    "        else:\n",
    "            raise StopIteration\n",
    "\n",
    "odd_numbers = OddsIterator(19)\n",
    "\n",
    "for i in range(20):\n",
    "    print(odd_numbers.__next__())"
   ]
  },
  {
   "cell_type": "raw",
   "metadata": {},
   "source": [
    "# D-\n",
    "\n",
    "class OddsIterator:\n",
    "    counter = 0\n",
    "    def __init__(self, limit):\n",
    "        global counter\n",
    "        self.current = 1\n",
    "        counter = limit\n",
    "\n",
    "    def __iter__(self):\n",
    "        return self\n",
    "\n",
    "    def __next__(self):\n",
    "        if self.current <= counter:\n",
    "            current_value = self.current\n",
    "            self.current += 2\n",
    "            return current_value\n",
    "        \n",
    "        raise StopIteration\n",
    "\n",
    "odd_numbers = OddsIterator(19)\n",
    "\n",
    "for i in range(20):\n",
    "    print(next(odd_numbers))"
   ]
  },
  {
   "cell_type": "markdown",
   "metadata": {},
   "source": [
    "---"
   ]
  },
  {
   "cell_type": "markdown",
   "metadata": {},
   "source": [
    "**Q 5:**\n",
    "\n",
    "We want to define a generator function that gives the list of first n positive integers which are multiples of m.\n",
    "\n",
    "Function name will be positive_multiples and it will take two parameters:\n",
    "* n: number of positive numbers\n",
    "* m: number which we will use to get multiples\n",
    "\n",
    "For example if n=7 and m=5 then we will get the following list:\n",
    "\n",
    "[5, 10, 15, 20, 25, 30, 35]\n",
    "\n",
    "We will call this function and print the first 7 positive multiples of 5.\n",
    "\n",
    "Which one below is appropriate for this task?"
   ]
  },
  {
   "cell_type": "raw",
   "metadata": {},
   "source": [
    "# A-\n",
    "\n",
    "def positive_multiples(n, m):\n",
    "    for i in range(n):\n",
    "        yield i * m\n",
    "\n",
    "multiples = positive_multiples(7, 5)\n",
    "\n",
    "print(list(multiples))"
   ]
  },
  {
   "cell_type": "raw",
   "metadata": {},
   "source": [
    "# B-\n",
    "\n",
    "def positive_multiples(n, m):\n",
    "    for i in range(n):\n",
    "        return (i+1) * m\n",
    "\n",
    "multiples = positive_multiples(7, 5)\n",
    "\n",
    "print(list(multiples))"
   ]
  },
  {
   "cell_type": "raw",
   "metadata": {},
   "source": [
    "# C-\n",
    "\n",
    "def positive_multiples(n, m):\n",
    "    for i in range(n):\n",
    "        yield (i+1) * m\n",
    "\n",
    "multiples = positive_multiples(7, 5)\n",
    "\n",
    "print(list(multiples))"
   ]
  },
  {
   "cell_type": "raw",
   "metadata": {},
   "source": [
    "# D-\n",
    "\n",
    "def positive_multiples(n, m):\n",
    "    counter = 1\n",
    "    while counter <= n:\n",
    "        return counter * m\n",
    "        counter += 1\n",
    "\n",
    "multiples = positive_multiples(7, 5)\n",
    "\n",
    "print(list(multiples))"
   ]
  },
  {
   "cell_type": "markdown",
   "metadata": {},
   "source": [
    "---"
   ]
  },
  {
   "cell_type": "markdown",
   "metadata": {},
   "source": [
    "**Q 6:**\n",
    "\n",
    "We want to define a generator expression.\n",
    "\n",
    "This is going to be a one-line generator.\n",
    "\n",
    "It will return an iterator which contains the cubes of even elements in the numbers list.\n",
    "\n",
    "Here is the numbers list:\n",
    "\n",
    "[1, 2, 3, 4, 5, 6, 7, 8, 9, 10]\n",
    "\n",
    "Convert the resulting iterator to a list.\n",
    "\n",
    "Then print the items in this list.\n",
    "\n",
    "Here is the expected output:\n",
    "\n",
    "[8, 64, 216, 512, 1000]\n",
    "\n",
    "Which cell below completes this operation successfully?"
   ]
  },
  {
   "cell_type": "raw",
   "metadata": {},
   "source": [
    "# A- \n",
    "\n",
    "numbers = [1, 2, 3, 4, 5, 6, 7, 8, 9, 10]\n",
    "\n",
    "even_cubes_gen = (i**3 for i in numbers if i % 2 == 1)\n",
    "\n",
    "even_cubes_list = list(even_cubes_gen)\n",
    "\n",
    "print(even_cubes_list)"
   ]
  },
  {
   "cell_type": "raw",
   "metadata": {},
   "source": [
    "# B- \n",
    "\n",
    "numbers = [1, 2, 3, 4, 5, 6, 7, 8, 9, 10]\n",
    "\n",
    "even_cubes_gen = (i**2 for i in numbers if i % 2 == 0)\n",
    "\n",
    "even_cubes_list = list(even_cubes_gen)\n",
    "\n",
    "print(even_cubes_list)"
   ]
  },
  {
   "cell_type": "raw",
   "metadata": {},
   "source": [
    "# C- \n",
    "\n",
    "numbers = [1, 2, 3, 4, 5, 6, 7, 8, 9, 10]\n",
    "\n",
    "even_cubes_gen = (i*3 for i in numbers if i % 2 == 1)\n",
    "\n",
    "even_cubes_list = list(even_cubes_gen)\n",
    "\n",
    "print(even_cubes_list)"
   ]
  },
  {
   "cell_type": "raw",
   "metadata": {},
   "source": [
    "# D- \n",
    "\n",
    "numbers = [1, 2, 3, 4, 5, 6, 7, 8, 9, 10]\n",
    "\n",
    "even_cubes_gen = (i**3 for i in numbers if i % 2 == 0)\n",
    "\n",
    "even_cubes_list = list(even_cubes_gen)\n",
    "\n",
    "print(even_cubes_list)"
   ]
  },
  {
   "cell_type": "markdown",
   "metadata": {},
   "source": [
    "---"
   ]
  },
  {
   "cell_type": "markdown",
   "metadata": {},
   "source": [
    "**Q 7:**\n",
    "\n",
    "Create a datetime object corresponding to date string of \"%d/%m/%y %H:%M\".\n",
    "\n",
    "Here are the date values:\n",
    "* year: 2022\n",
    "* month: 4\n",
    "* day: 19\n",
    "* hour: 16\n",
    "* minutes: 36\n",
    "\n",
    "Then print the following text by formatting this datetime object:\n",
    "\n",
    "\"Tuesday, 19. April 2022 04:36PM\"\n",
    "\n",
    "Which cell below completes this operation successfully?"
   ]
  },
  {
   "cell_type": "raw",
   "metadata": {},
   "source": [
    "# A-\n",
    "\n",
    "from datetime import datetime\n",
    "\n",
    "dt = datetime.strptime(\"22/4/19 16:36\", \"%d/%m/%y %H:%M\")\n",
    "\n",
    "formatted_dt = dt.strftime(\"%A, %d. %B %Y %I:%M%p\")\n",
    "\n",
    "print(formatted_dt)"
   ]
  },
  {
   "cell_type": "raw",
   "metadata": {},
   "source": [
    "# B-\n",
    "\n",
    "from datetime import datetime\n",
    "\n",
    "dt = datetime.strptime(\"19/4/22 16:36\", \"%d/%m/%y %H:%M\")\n",
    "\n",
    "formatted_dt = dt.strftime(\"%A, %d. %B %Y %I:%M%p\")\n",
    "\n",
    "print(formatted_dt)"
   ]
  },
  {
   "cell_type": "raw",
   "metadata": {},
   "source": [
    "# C-\n",
    "\n",
    "from datetime import datetime\n",
    "\n",
    "dt = datetime.strptime(\"19/4/22 16:36\", \"%d/%m/%y\")\n",
    "\n",
    "formatted_dt = dt.strftime(\"%A, %d. %B %Y %I:%M%p\")\n",
    "\n",
    "print(formatted_dt)"
   ]
  },
  {
   "cell_type": "raw",
   "metadata": {},
   "source": [
    "# D-\n",
    "\n",
    "from datetime import datetime\n",
    "\n",
    "dt = datetime.strptime(\"19/4/22 16:36\", \"%d/%m/%Y %H:%M\")\n",
    "\n",
    "formatted_dt = dt.strftime(\"%A, %d. %B %Y %I:%M%p\")\n",
    "\n",
    "print(formatted_dt)"
   ]
  },
  {
   "cell_type": "markdown",
   "metadata": {},
   "source": [
    "---"
   ]
  },
  {
   "cell_type": "markdown",
   "metadata": {},
   "source": [
    "**Q 8:**\n",
    "\n",
    "Create a date object from ISO format.\n",
    "\n",
    "The date will be: 2021-10-25.\n",
    "\n",
    "Then print the date in following format:\n",
    "\n",
    "\"Monday 25. October 2021\"\n",
    "\n",
    "Which cell below completes this operation successfully?"
   ]
  },
  {
   "cell_type": "raw",
   "metadata": {},
   "source": [
    "# A- \n",
    "\n",
    "from datetime import date\n",
    "\n",
    "d = date.fromisoformat('2021-10-25')\n",
    "\n",
    "print(d.isoformat())"
   ]
  },
  {
   "cell_type": "raw",
   "metadata": {},
   "source": [
    "# B- \n",
    "\n",
    "from datetime import date\n",
    "\n",
    "d = date.fromisoformat('2021-10-25')\n",
    "\n",
    "print(d.strftime(\"%d/%m/%y\"))"
   ]
  },
  {
   "cell_type": "raw",
   "metadata": {},
   "source": [
    "# C-\n",
    "\n",
    "from datetime import date\n",
    "\n",
    "d = date.fromisoformat('2021-10-25')\n",
    "\n",
    "print(d.strftime(\"%A %d. %B %Y\"))"
   ]
  },
  {
   "cell_type": "raw",
   "metadata": {},
   "source": [
    "# D-\n",
    "\n",
    "from datetime import date\n",
    "\n",
    "d = date.fromisoformat('2021-10-25')\n",
    "\n",
    "print(d.strftime(\"%d. %m %y\"))"
   ]
  },
  {
   "cell_type": "markdown",
   "metadata": {},
   "source": [
    "---"
   ]
  },
  {
   "cell_type": "markdown",
   "metadata": {},
   "source": [
    "**Q 9:**\n",
    "\n",
    "We have a basic function which takes one argument and simply returns it.\n",
    "\n",
    "Here is this function:\n",
    "<pre>\n",
    "def text_to_list(text):\n",
    "    return text\n",
    "</pre>\n",
    "\n",
    "We want this function to always return the characters of the text in a list.\n",
    "\n",
    "For example when we call it as:\n",
    "\n",
    "text_to_list('python advanced')\n",
    "\n",
    "We want it to return:\n",
    "\n",
    "['p', 'y', 't', 'h', 'o', 'n', ' ', 'a', 'd', 'v', 'a', 'n', 'c', 'e', 'd', '.']\n",
    "\n",
    "But we do not want to modify the function body.\n",
    "\n",
    "Function definition will not be changed.\n",
    "\n",
    "What we need is a decorator to do the list conversion for our function.\n",
    "\n",
    "So, you need to define this decorator.\n",
    "\n",
    "Which cell below completes this operation successfully?"
   ]
  },
  {
   "cell_type": "raw",
   "metadata": {},
   "source": [
    "# A-\n",
    "\n",
    "def list_decorator(func):\n",
    "    def wrapper(text):\n",
    "        func_result = func(text)\n",
    "        return list(func_result)\n",
    "    return wrapper\n",
    "\n",
    "@list_decorator\n",
    "def text_to_list(text):\n",
    "    return text\n",
    "\n",
    "list_from_text = text_to_list('python advanced.')\n",
    "\n",
    "print(list_from_text)"
   ]
  },
  {
   "cell_type": "raw",
   "metadata": {},
   "source": [
    "# B-\n",
    "\n",
    "def list_decorator(func):\n",
    "    def wrapper(text):\n",
    "        func_result = func(text)\n",
    "        yield list(func_result)\n",
    "    return wrapper\n",
    "\n",
    "@list_decorator\n",
    "def text_to_list(text):\n",
    "    return text\n",
    "\n",
    "list_from_text = text_to_list('python advanced.')\n",
    "\n",
    "print(list_from_text)"
   ]
  },
  {
   "cell_type": "raw",
   "metadata": {},
   "source": [
    "# C-\n",
    "\n",
    "def list_decorator(func):\n",
    "    def wrapper(text):\n",
    "        func_result = func(text)\n",
    "        return func_result\n",
    "    return wrapper\n",
    "\n",
    "@list_decorator\n",
    "def text_to_list(text):\n",
    "    return text\n",
    "\n",
    "list_from_text = text_to_list('python advanced.')\n",
    "\n",
    "print(list_from_text)"
   ]
  },
  {
   "cell_type": "raw",
   "metadata": {},
   "source": [
    "# D-\n",
    "\n",
    "def list_decorator(func):\n",
    "    def wrapper(text):\n",
    "        return func(text)\n",
    "    return wrapper\n",
    "\n",
    "@list_decorator\n",
    "def text_to_list(text):\n",
    "    return text\n",
    "\n",
    "list_from_text = text_to_list('python advanced.')\n",
    "\n",
    "print(list_from_text)"
   ]
  },
  {
   "cell_type": "markdown",
   "metadata": {},
   "source": [
    "---"
   ]
  },
  {
   "cell_type": "markdown",
   "metadata": {},
   "source": [
    "**Q 10:**\n",
    "\n",
    "Define a class decorator named FunctionDetails.\n",
    "\n",
    "This decorator will print the function arguments as follows:\n",
    "* Parameters: (a tuple of parameters)\n",
    "\n",
    "Here is the function which we want to decorate:\n",
    "\n",
    "<pre>\n",
    "def some_function(first, last, age, a_list):\n",
    "    return (first, last, age, a_list)\n",
    "</pre>\n",
    "    \n",
    "Call the function after you decorate it with FunctionDetails.\n",
    "\n",
    "When you call it, it should print the parameters as following:\n",
    "\n",
    "<pre>\n",
    "some_function('jane', 'doe', 28, [1,2,3])\n",
    "-----\n",
    "Parameters: ('jane', 'doe', 28, [1, 2, 3])\n",
    "</pre>\n",
    "\n",
    "Which one below can achieve this?"
   ]
  },
  {
   "cell_type": "raw",
   "metadata": {},
   "source": [
    "# A-\n",
    "\n",
    "class FunctionDetails:\n",
    "    def __call__(self, *args):\n",
    "        print(f\"Parameters: {args}\")\n",
    "\n",
    "@FunctionDetails\n",
    "def some_function(first, last, age, a_list):\n",
    "    return (first, last, age, a_list)\n",
    "\n",
    "some_function('jane', 'doe', 28, [1,2,3])"
   ]
  },
  {
   "cell_type": "raw",
   "metadata": {},
   "source": [
    "# B-\n",
    "\n",
    "class FunctionDetails:\n",
    "    def __init__(self, func):\n",
    "        self.func = func\n",
    " \n",
    "    def __iter__(self, *args):\n",
    "        print(f\"Parameters: {args}\")\n",
    "\n",
    "@FunctionDetails\n",
    "def some_function(first, last, age, a_list):\n",
    "    return (first, last, age, a_list)\n",
    "\n",
    "some_function('jane', 'doe', 28, [1,2,3])"
   ]
  },
  {
   "cell_type": "raw",
   "metadata": {},
   "source": [
    "# C-\n",
    "\n",
    "class FunctionDetails:\n",
    "    def __init__(self, func):\n",
    "        self.func = func\n",
    " \n",
    "    def __call__(self):\n",
    "        print(f\"Parameters: {args}\")\n",
    "\n",
    "@FunctionDetails\n",
    "def some_function(first, last, age, a_list):\n",
    "    return (first, last, age, a_list)\n",
    "\n",
    "some_function('jane', 'doe', 28, [1,2,3])"
   ]
  },
  {
   "cell_type": "raw",
   "metadata": {},
   "source": [
    "# D-\n",
    "\n",
    "class FunctionDetails:\n",
    "    def __init__(self, func):\n",
    "        self.func = func\n",
    " \n",
    "    def __call__(self, *args):\n",
    "        print(f\"Parameters: {args}\")\n",
    "\n",
    "@FunctionDetails\n",
    "def some_function(first, last, age, a_list):\n",
    "    return (first, last, age, a_list)\n",
    "\n",
    "some_function('jane', 'doe', 28, [1,2,3])"
   ]
  },
  {
   "cell_type": "markdown",
   "metadata": {},
   "source": [
    "---"
   ]
  },
  {
   "cell_type": "markdown",
   "metadata": {},
   "source": [
    "**Q 11:**\n",
    "\n",
    "Define a custom context manager class as CustomContextManager.\n",
    "\n",
    "Define the necessary methods in it.\n",
    "\n",
    "Your context manager should open and return the file object at the specified path.\n",
    "\n",
    "Also it should close the file on exit.\n",
    "\n",
    "The parameters to the class constructor should be:\n",
    "* path: file path for the file to read\n",
    "* mode: operation mode (read, write, append etc.)\n",
    "\n",
    "Which one is the correct definition of this context manager class?"
   ]
  },
  {
   "cell_type": "raw",
   "metadata": {},
   "source": [
    "# A-\n",
    "\n",
    "class CustomContexManager:\n",
    "    def __init__(self, path, mode):\n",
    "        self.path = path\n",
    "        self.mode = mode\n",
    "        self.file = None\n",
    "\n",
    "    def __iter__(self):\n",
    "        self.file = open(self.path, self.mode)\n",
    "        return self.file\n",
    "\n",
    "    def __exit__(self, exc_type, exc_value, exc_traceback):\n",
    "        self.file.close()"
   ]
  },
  {
   "cell_type": "raw",
   "metadata": {},
   "source": [
    "# B-\n",
    "\n",
    "class CustomContexManager:\n",
    "    def __init__(self, path, mode):\n",
    "        self.path = path\n",
    "        self.mode = mode\n",
    "        self.file = None\n",
    "\n",
    "    def __enter__(self):\n",
    "        self.file = open(self.path, self.mode)\n",
    "        return self.file\n",
    "\n",
    "    def __exit__(self, exc_type, exc_value, exc_traceback):\n",
    "        self.file.close()"
   ]
  },
  {
   "cell_type": "raw",
   "metadata": {},
   "source": [
    "# C-\n",
    "\n",
    "class CustomContexManager:\n",
    "    def __init__(self, path, mode):\n",
    "        self.path = path\n",
    "        self.mode = mode\n",
    "        self.file = None\n",
    "\n",
    "    def __enter__(self):\n",
    "        self.file = open(self.path, self.mode)\n",
    "        return self.file"
   ]
  },
  {
   "cell_type": "raw",
   "metadata": {},
   "source": [
    "# D-\n",
    "\n",
    "class CustomContexManager:\n",
    "    def __init__(self, path, mode):\n",
    "        self.path = path\n",
    "        self.mode = mode\n",
    "        self.file = None\n",
    "\n",
    "    def __enter__(self):\n",
    "        self.file = open(self.path, self.mode)\n",
    "\n",
    "    def __exit__(self, exc_type, exc_value, exc_traceback):\n",
    "        self.file.close()"
   ]
  },
  {
   "cell_type": "markdown",
   "metadata": {},
   "source": [
    "---"
   ]
  },
  {
   "cell_type": "markdown",
   "metadata": {},
   "source": [
    "**Q 12:**\n",
    "\n",
    "Define a function based context manager which creates a file and writes some text in it.\n",
    "\n",
    "The name will be file_writer and it will take two parameters:\n",
    "* path: file path for the file to read\n",
    "* mode: operation mode (read, write, append etc.)\n",
    "\n",
    "Use this context manager in a with statement to create a file and add the text below in this file.\n",
    "\n",
    "File name should be: \"text_file_for_writing.txt\".\n",
    "\n",
    "And the text is:\n",
    "<pre>\n",
    "\"The file is created in the final exam.\n",
    "It is a function-based context manager,\n",
    "decorated with contextlib.contextmanager.\"\n",
    "</pre>\n",
    "\n",
    "Which one below can achieve this?"
   ]
  },
  {
   "cell_type": "raw",
   "metadata": {},
   "source": [
    "# A-\n",
    "\n",
    "from contextlib import contextmanager\n",
    "\n",
    "@contextmanager\n",
    "def file_writer(path, mode='w'):\n",
    "    file_object = None\n",
    "    try:\n",
    "        file_object = open(path, mode=mode)\n",
    "        return file_object\n",
    "    finally:\n",
    "        if file_object:\n",
    "            file_object.close()\n",
    "\n",
    "with file_writer(\"text_file_for_writing.txt\") as file:\n",
    "    file.write(\"The file is created in the final exam.\\n\"\n",
    "               \"It is a function-based context manager,\\n\"\n",
    "               \"decorated with contextlib.contextmanager.\")"
   ]
  },
  {
   "cell_type": "raw",
   "metadata": {},
   "source": [
    "# B-\n",
    "\n",
    "from contextlib import contextmanager\n",
    "\n",
    "@contextmanager\n",
    "def file_writer(path, mode='r'):\n",
    "    file_object = None\n",
    "    try:\n",
    "        file_object = open(path, mode=mode)\n",
    "        yield file_object\n",
    "    finally:\n",
    "        if file_object:\n",
    "            file_object.close()\n",
    "\n",
    "with file_writer(\"text_file_for_writing.txt\") as file:\n",
    "    file.write(\"The file is created in the final exam.\\n\"\n",
    "               \"It is a function-based context manager,\\n\"\n",
    "               \"decorated with contextlib.contextmanager.\")"
   ]
  },
  {
   "cell_type": "raw",
   "metadata": {},
   "source": [
    "# C-\n",
    "\n",
    "from contextlib import contextmanager\n",
    "\n",
    "@contextmanager\n",
    "def file_writer(path, mode='w'):\n",
    "    file_object = None\n",
    "    try:\n",
    "        file_object = open(path, mode=mode)\n",
    "        yield file_object\n",
    "    finally:\n",
    "        if file_object:\n",
    "            file_object.close()\n",
    "\n",
    "with file_writer(\"text_file_for_writing.txt\") as file:\n",
    "    file.write(\"The file is created in the final exam.\\n\"\n",
    "               \"It is a function-based context manager,\\n\"\n",
    "               \"decorated with contextlib.contextmanager.\")"
   ]
  },
  {
   "cell_type": "raw",
   "metadata": {},
   "source": [
    "# D-\n",
    "\n",
    "from contextlib import contextmanager\n",
    "\n",
    "def file_writer(path, mode='w'):\n",
    "    file_object = None\n",
    "    try:\n",
    "        file_object = open(path, mode=mode)\n",
    "        yield file_object\n",
    "    finally:\n",
    "        if file_object:\n",
    "            file_object.close()\n",
    "\n",
    "with file_writer(\"text_file_for_writing.txt\") as file:\n",
    "    file.write(\"The file is created in the final exam.\\n\"\n",
    "               \"It is a function-based context manager,\\n\"\n",
    "               \"decorated with contextlib.contextmanager.\")"
   ]
  },
  {
   "cell_type": "markdown",
   "metadata": {},
   "source": [
    "---"
   ]
  },
  {
   "cell_type": "markdown",
   "metadata": {},
   "source": [
    "**Q 13:**\n",
    "\n",
    "We have a list of numbers which we want to filter only the positive ones.\n",
    "\n",
    "Here is the list:\n",
    "\n",
    "[5, -16, 4, -3, 0, -12, 9, 1, 2, -7, 8]\n",
    "\n",
    "Define a filter() function which gives us the positive numbers in this list.\n",
    "\n",
    "It should take a lambda function and this list as the parameters.\n",
    "\n",
    "The filter function will return a filter object.\n",
    "\n",
    "You should convert this filter object to a list.\n",
    "\n",
    "Finally you should sort the list in ascending order in-place.\n",
    "\n",
    "The resulting list should be:\n",
    "\n",
    "[1, 2, 4, 5, 8, 9]\n",
    "\n",
    "Which one below can achieve this?"
   ]
  },
  {
   "cell_type": "raw",
   "metadata": {},
   "source": [
    "# A-\n",
    "\n",
    "all_numbers = [5, -16, 4, -3, 0, -12, 9, 1, 2, -7, 8]\n",
    "\n",
    "numbers_filtered = filter(lambda x: x < 0, all_numbers)\n",
    "\n",
    "positives = list(numbers_filtered)\n",
    "\n",
    "positives.sort()\n",
    "\n",
    "print(positives)"
   ]
  },
  {
   "cell_type": "raw",
   "metadata": {},
   "source": [
    "# B-\n",
    "\n",
    "all_numbers = [5, -16, 4, -3, 0, -12, 9, 1, 2, -7, 8]\n",
    "\n",
    "numbers_filtered = filter(lambda x: x > 0, all_numbers)\n",
    "\n",
    "positives = list(numbers_filtered)\n",
    "\n",
    "positives.sort()\n",
    "\n",
    "print(positives)"
   ]
  },
  {
   "cell_type": "raw",
   "metadata": {},
   "source": [
    "# C-\n",
    "\n",
    "all_numbers = [5, -16, 4, -3, 0, -12, 9, 1, 2, -7, 8]\n",
    "\n",
    "numbers_filtered = filter(lambda x: x, all_numbers)\n",
    "\n",
    "positives = list(numbers_filtered)\n",
    "\n",
    "positives.sort()\n",
    "\n",
    "print(positives)"
   ]
  },
  {
   "cell_type": "raw",
   "metadata": {},
   "source": [
    "# D-\n",
    "\n",
    "all_numbers = [5, -16, 4, -3, 0, -12, 9, 1, 2, -7, 8]\n",
    "\n",
    "numbers_filtered = filter(all_numbers, lambda x: x > 0)\n",
    "\n",
    "positives = list(numbers_filtered)\n",
    "\n",
    "positives.sort()\n",
    "\n",
    "print(positives)"
   ]
  },
  {
   "cell_type": "markdown",
   "metadata": {},
   "source": [
    "---"
   ]
  },
  {
   "cell_type": "markdown",
   "metadata": {},
   "source": [
    "**Q 14:**\n",
    "\n",
    "We want define a function which multiplies all the items in the given list.\n",
    "\n",
    "The initial value will be 100, which means it will start by multiplying the first item with 100.\n",
    "\n",
    "Here is the list to multiply:\n",
    "\n",
    "[4, 5, 6, 7, 8]\n",
    "\n",
    "The expected result is: \n",
    "\n",
    "672000\n",
    "\n",
    "Which one below can achieve this task?"
   ]
  },
  {
   "cell_type": "raw",
   "metadata": {},
   "source": [
    "# A-\n",
    "\n",
    "from functools import reduce\n",
    "\n",
    "list_mult = [4, 5, 6, 7, 8]\n",
    "\n",
    "multiplication = reduce(lambda x, y: x * y, list_mult, 100)\n",
    "\n",
    "print(multiplication)"
   ]
  },
  {
   "cell_type": "raw",
   "metadata": {},
   "source": [
    "# B-\n",
    "\n",
    "from functools import reduce\n",
    "\n",
    "list_mult = [4, 5, 6, 7, 8]\n",
    "\n",
    "multiplication = map(lambda x, y: x * y, list_mult, 100)\n",
    "\n",
    "print(multiplication)"
   ]
  },
  {
   "cell_type": "raw",
   "metadata": {},
   "source": [
    "# C-\n",
    "\n",
    "from functools import reduce\n",
    "\n",
    "list_mult = [4, 5, 6, 7, 8]\n",
    "\n",
    "multiplication = map(lambda x, y: x * y, list_mult)\n",
    "\n",
    "print(multiplication)"
   ]
  },
  {
   "cell_type": "raw",
   "metadata": {},
   "source": [
    "# D-\n",
    "\n",
    "from functools import reduce\n",
    "\n",
    "list_mult = [4, 5, 6, 7, 8]\n",
    "\n",
    "multiplication = reduce(lambda x, y: x * y, list_mult)\n",
    "\n",
    "print(multiplication)"
   ]
  },
  {
   "cell_type": "markdown",
   "metadata": {},
   "source": [
    "---"
   ]
  },
  {
   "cell_type": "markdown",
   "metadata": {},
   "source": [
    "**Q 15:**\n",
    "\n",
    "Define a regular expression pattern in the following way.\n",
    "It should:\n",
    "* start with 2 digits\n",
    "* a dot (.) after 2 digits\n",
    "* 3 alphabetical upper case letters (A to Z)\n",
    "* a dash (-)\n",
    "* zero or more word characters after the dash\n",
    "\n",
    "Here are some examples:\n",
    "* \"47.UPS-333\"\n",
    "* \"16.ARC-c\"\n",
    "* \"04.XYZ-\"\n",
    "\n",
    "What is the correct RE pattern for this?"
   ]
  },
  {
   "cell_type": "raw",
   "metadata": {},
   "source": [
    "# A-\n",
    "\n",
    "import re\n",
    "\n",
    "pattern = re.compile(r\"\\d{2}.[A-Z]{3}-\\w+\")\n",
    "\n",
    "m = pattern.search(\"47.UPS-333\")\n",
    "m_2 = pattern.search(\"16.ARC-c\")\n",
    "m_3 = pattern.search(\"04.XYZ-\")\n",
    "\n",
    "print(m.group())\n",
    "print(m_2.group())\n",
    "print(m_3.group())"
   ]
  },
  {
   "cell_type": "raw",
   "metadata": {},
   "source": [
    "# B-\n",
    "\n",
    "import re\n",
    "\n",
    "pattern = re.compile(r\"\\d{2}.[A-Z]{3}-\\w\")\n",
    "\n",
    "m = pattern.search(\"47.UPS-333\")\n",
    "m_2 = pattern.search(\"16.ARC-c\")\n",
    "m_3 = pattern.search(\"04.XYZ-\")\n",
    "\n",
    "print(m.group())\n",
    "print(m_2.group())\n",
    "print(m_3.group())"
   ]
  },
  {
   "cell_type": "raw",
   "metadata": {},
   "source": [
    "# C-\n",
    "\n",
    "import re\n",
    "\n",
    "pattern = re.compile(r\"\\d{2}.[A-Z]{3}-\\w*\")\n",
    "\n",
    "m = pattern.search(\"47.UPS-333\")\n",
    "m_2 = pattern.search(\"16.ARC-c\")\n",
    "m_3 = pattern.search(\"04.XYZ-\")\n",
    "\n",
    "print(m.group())\n",
    "print(m_2.group())\n",
    "print(m_3.group())"
   ]
  },
  {
   "cell_type": "raw",
   "metadata": {},
   "source": [
    "# D-\n",
    "\n",
    "import re\n",
    "\n",
    "pattern = re.compile(r\"\\d{2}.[A-Z]-\\w*\")\n",
    "\n",
    "m = pattern.search(\"47.UPS-333\")\n",
    "m_2 = pattern.search(\"16.ARC-c\")\n",
    "m_3 = pattern.search(\"04.XYZ-\")\n",
    "\n",
    "print(m.group())\n",
    "print(m_2.group())\n",
    "print(m_3.group())"
   ]
  },
  {
   "cell_type": "markdown",
   "metadata": {},
   "source": [
    "---"
   ]
  },
  {
   "cell_type": "markdown",
   "metadata": {},
   "source": [
    "**Q 16:**\n",
    "\n",
    "Define a function named find_all_with_re.\n",
    "\n",
    "The function will take a regular expression and a text as parameters.\n",
    "\n",
    "Ant will return the list of all possible matches of this regex in the text.\n",
    "\n",
    "The regex will be: all words starting with 'c' or 'e' (a word must include at least two characters).\n",
    "\n",
    "The text is:\n",
    "\n",
    "\"Lorem ipsum dolor sit amet, a consectetur adipiscing elit. Sed id cid tempor risus. \n",
    "Quisque imperdiet, neque c pulvinar sollicitudin, augue nisl varius nibh, e suscipit cerat non lectus.\"\n",
    "\n",
    "Expected Result:\n",
    "\n",
    "['consectetur', 'elit', 'cid', 'cerat']\n",
    "\n",
    "Which one below can achieve this task?"
   ]
  },
  {
   "cell_type": "raw",
   "metadata": {},
   "source": [
    "# A-\n",
    "\n",
    "import re\n",
    "\n",
    "def find_all_with_re(regex, text):\n",
    "    return re.find(regex, text)\n",
    "\n",
    "text = \"\"\"Lorem ipsum dolor sit amet, \n",
    "a consectetur adipiscing elit. \n",
    "Sed id cid tempor risus. \n",
    "Quisque imperdiet, neque c pulvinar sollicitudin, \n",
    "augue nisl varius nibh, e suscipit cerat non lectus.\"\"\"\n",
    "\n",
    "regex = r\"\\b[ce]\\w+\"\n",
    "\n",
    "match_list = find_all_with_re(regex, text)\n",
    "\n",
    "print(match_list)"
   ]
  },
  {
   "cell_type": "raw",
   "metadata": {},
   "source": [
    "# B-\n",
    "\n",
    "import re\n",
    "\n",
    "def find_all_with_re(regex, text):\n",
    "    return re.findall(regex, text)\n",
    "\n",
    "text = \"\"\"Lorem ipsum dolor sit amet, \n",
    "a consectetur adipiscing elit. \n",
    "Sed id cid tempor risus. \n",
    "Quisque imperdiet, neque c pulvinar sollicitudin, \n",
    "augue nisl varius nibh, e suscipit cerat non lectus.\"\"\"\n",
    "\n",
    "regex = r\"\\b(ce)\\w+\"\n",
    "\n",
    "match_list = find_all_with_re(regex, text)\n",
    "\n",
    "print(match_list)"
   ]
  },
  {
   "cell_type": "raw",
   "metadata": {},
   "source": [
    "# C-\n",
    "\n",
    "import re\n",
    "\n",
    "def find_all_with_re(regex, text):\n",
    "    return re.findall(regex, text)\n",
    "\n",
    "text = \"\"\"Lorem ipsum dolor sit amet, \n",
    "a consectetur adipiscing elit. \n",
    "Sed id cid tempor risus. \n",
    "Quisque imperdiet, neque c pulvinar sollicitudin, \n",
    "augue nisl varius nibh, e suscipit cerat non lectus.\"\"\"\n",
    "\n",
    "regex = r\"\\b[ce]\\w\"\n",
    "\n",
    "match_list = find_all_with_re(regex, text)\n",
    "\n",
    "print(match_list)"
   ]
  },
  {
   "cell_type": "raw",
   "metadata": {},
   "source": [
    "# D-\n",
    "\n",
    "import re\n",
    "\n",
    "def find_all_with_re(regex, text):\n",
    "    return re.findall(regex, text)\n",
    "\n",
    "text = \"\"\"Lorem ipsum dolor sit amet, \n",
    "a consectetur adipiscing elit. \n",
    "Sed id cid tempor risus. \n",
    "Quisque imperdiet, neque c pulvinar sollicitudin, \n",
    "augue nisl varius nibh, e suscipit cerat non lectus.\"\"\"\n",
    "\n",
    "regex = r\"\\b[ce]\\w+\"\n",
    "\n",
    "match_list = find_all_with_re(regex, text)\n",
    "\n",
    "print(match_list)"
   ]
  },
  {
   "cell_type": "markdown",
   "metadata": {},
   "source": [
    "---"
   ]
  },
  {
   "cell_type": "markdown",
   "metadata": {},
   "source": [
    "**Q 17:**\n",
    "    \n",
    "We will define a function to connect to a MySQL Server and print the connection result.\n",
    "\n",
    "The function name will be mysql_connector.\n",
    "\n",
    "The server will be the local MySQL Server on your machine (localhost).\n",
    "\n",
    "The function has to complete these three tasks:\n",
    "\n",
    "1- If it gets an exception, it should print the error description.\n",
    "\n",
    "2- If it successfully connects to the server it should print it as: \n",
    "\n",
    "   \"Successfully connected to MySQL Server.\"\n",
    "\n",
    "3- It should return an active mysql.connector.connection.MySQLConnection object.\n",
    "\n",
    "\n",
    "Which one below can achieve this task?"
   ]
  },
  {
   "cell_type": "raw",
   "metadata": {},
   "source": [
    "# A-\n",
    "\n",
    "import mysql.connector\n",
    "\n",
    "def mysql_connector():\n",
    "    connection = None\n",
    "    try:\n",
    "        connection = connect(\n",
    "            host=\"localhost\",\n",
    "            user=\"root\",\n",
    "            password=\"<your_root_password>\"\n",
    "        )\n",
    "        print(\"Successfully connected to MySQL Server.\")\n",
    "    except mysql.connector.Error as e:\n",
    "        print(f\"An Error occurred: '{e}'\")\n",
    "    return connection\n",
    "\n",
    "mysql_connector()"
   ]
  },
  {
   "cell_type": "raw",
   "metadata": {},
   "source": [
    "# B-\n",
    "\n",
    "import mysql.connector\n",
    "\n",
    "def mysql_connector():\n",
    "    connection = None\n",
    "    try:\n",
    "        connection = mysql.connector.connect(\n",
    "            host=\"localhost\",\n",
    "            user=\"root\",\n",
    "            password=\"<your_root_password>\"\n",
    "        )\n",
    "        print(\"Successfully connected to MySQL Server.\")\n",
    "    except mysql.connector.Error as e:\n",
    "        print(f\"An Error occurred: '{e}'\")\n",
    "    return connection\n",
    "\n",
    "mysql_connector()"
   ]
  },
  {
   "cell_type": "raw",
   "metadata": {},
   "source": [
    "# C-\n",
    "\n",
    "import mysql.connector\n",
    " \n",
    "# define the function\n",
    "def mysql_connector():\n",
    "    try:\n",
    "        yield mysql.connector.connect(\n",
    "            host=\"localhost\",\n",
    "            user=\"root\",\n",
    "            password=\"<your_root_password>\"\n",
    "        )\n",
    "        print(\"Successfully connected to MySQL Server.\")\n",
    "    except mysql.connector.Error as e:\n",
    "        print(f\"An Error occurred: '{e}'\")\n",
    "\n",
    "mysql_connector()"
   ]
  },
  {
   "cell_type": "raw",
   "metadata": {},
   "source": [
    "# D-\n",
    "\n",
    "import mysql.connector\n",
    " \n",
    "# define the function\n",
    "def mysql_connector():\n",
    "    try:\n",
    "        connection = mysql.connector.connect(\n",
    "            host=\"localhost\",\n",
    "            user=\"root\",\n",
    "            password=\"<your_root_password>\"\n",
    "        )\n",
    "        print(\"Successfully connected to MySQL Server.\")\n",
    "        yield connection\n",
    "    finally:\n",
    "        pass\n",
    "\n",
    "mysql_connector()"
   ]
  },
  {
   "cell_type": "markdown",
   "metadata": {},
   "source": [
    "---"
   ]
  },
  {
   "cell_type": "markdown",
   "metadata": {},
   "source": [
    "**Q 18:**\n",
    "\n",
    "We want to define a function named create_a_database.\n",
    "\n",
    "It will create a new database named my_local_db on the local MySQL server.\n",
    "\n",
    "To be able to create a database, you need to connect to the server first.\n",
    "\n",
    "The function should print the result of the operation, either successful or an exception.\n",
    "\n",
    "The function should also drop the database if it exists with the same name.\n",
    "\n",
    "What is the correct definition for this function?"
   ]
  },
  {
   "cell_type": "raw",
   "metadata": {},
   "source": [
    "# A-\n",
    "\n",
    "from mysql.connector.connection import MySQLConnection\n",
    "\n",
    "def create_a_database(db_name):\n",
    "    try:\n",
    "        connection = MySQLConnection()\n",
    "        if connection is not None:\n",
    "            cursor = connection.cursor()\n",
    "            cursor.execute(f\"DROP DATABASE {db_name}\")\n",
    "            cursor.execute(f\"CREATE DATABASE {db_name}\")\n",
    "    except mysql.connector.Error as e:\n",
    "        print(f\"An Error occurred in DB Creation:\\n'{e}'\")\n",
    "    else:\n",
    "        if connection is not None:\n",
    "            cursor.close()\n",
    "            connection.close()\n",
    "            print(\"Database created successfully.\")\n",
    "\n",
    "create_a_database(\"my_local_db\")"
   ]
  },
  {
   "cell_type": "raw",
   "metadata": {},
   "source": [
    "# B-\n",
    "\n",
    "import mysql.connector\n",
    "\n",
    "def create_a_database(db_name):\n",
    "    try:\n",
    "        connection = mysql.connector.connect(\n",
    "            user=\"root\",\n",
    "            password=\"<your_root_password>\"\n",
    "        )\n",
    "        if connection is not None:\n",
    "            cursor = connection.cursor()\n",
    "            cursor.execute(f\"DROP DATABASE {db_name}\")\n",
    "    except mysql.connector.Error as e:\n",
    "        print(f\"An Error occurred in DB Creation:\\n'{e}'\")\n",
    "    else:\n",
    "        if connection is not None:\n",
    "            cursor.close()\n",
    "            connection.close()\n",
    "            print(\"Database created successfully.\")\n",
    "\n",
    "create_a_database(\"my_local_db\")"
   ]
  },
  {
   "cell_type": "raw",
   "metadata": {},
   "source": [
    "# C-\n",
    "\n",
    "import mysql.connector\n",
    "\n",
    "def create_a_database(db_name):\n",
    "    try:\n",
    "        connection = mysql.connector.connect(\n",
    "            user=\"root\",\n",
    "            password=\"<your_root_password>\"\n",
    "        )\n",
    "        if connection is not None:\n",
    "            cursor = connection.cursor()\n",
    "            cursor.execute(f\"CREATE DATABASE {db_name}\")\n",
    "    except mysql.connector.Error as e:\n",
    "        print(f\"An Error occurred in DB Creation:\\n'{e}'\")\n",
    "    else:\n",
    "        if connection is not None:\n",
    "            cursor.close()\n",
    "            connection.close()\n",
    "            print(\"Database created successfully.\")\n",
    "\n",
    "create_a_database(\"my_local_db\")"
   ]
  },
  {
   "cell_type": "raw",
   "metadata": {},
   "source": [
    "# D-\n",
    "\n",
    "import mysql.connector\n",
    "\n",
    "def create_a_database(db_name):\n",
    "    try:\n",
    "        connection = mysql.connector.connect(\n",
    "            host=\"localhost\",\n",
    "            user=\"root\",\n",
    "            password=\"<your_root_password>\"\n",
    "        )\n",
    "        if connection is not None:\n",
    "            cursor = connection.cursor()\n",
    "            cursor.execute(f\"DROP DATABASE {db_name}\")\n",
    "            cursor.execute(f\"CREATE DATABASE {db_name}\")\n",
    "    except mysql.connector.Error as e:\n",
    "        print(f\"An Error occurred in DB Creation:\\n'{e}'\")\n",
    "    else:\n",
    "        if connection is not None:\n",
    "            cursor.close()\n",
    "            connection.close()\n",
    "            print(\"Database created successfully.\")\n",
    "\n",
    "create_a_database(\"my_local_db\")"
   ]
  },
  {
   "cell_type": "markdown",
   "metadata": {},
   "source": [
    "---"
   ]
  },
  {
   "cell_type": "markdown",
   "metadata": {},
   "source": [
    "**Q 19:**\n",
    "\n",
    "Let's assume we have a folder named \"images\" which contains some image files, and an empty folder called \"thumbnails\".\n",
    "\n",
    "Let's also assume, the initial size of the \"images\" folder is around 27,5 MB with 20 images in it.\n",
    "\n",
    "The size is quite large, so we want to resize the images in this folder. \n",
    "\n",
    "We want to save the thumbnails of these images in the \"thumbnails\" folder.\n",
    "\n",
    "Thumbnail dimensions (width * height) of each image will 1/10 of the original image.\n",
    "\n",
    "And in terms of disk space, we expect the \"thumbnails\" folder to be around 200 KB.\n",
    "\n",
    "We also want to keep track of elapsed time (start & end).\n",
    "\n",
    "We want to use Threading for resize operation.\n",
    "\n",
    "We have a function named get_images() which returns a list of images in the \"images\" folder.\n",
    "\n",
    "There is also a function named resize_image() which resizes the given image based on width * height values.\n",
    "\n",
    "Which function below is defined correctly for creating and running threads for resize operation?"
   ]
  },
  {
   "cell_type": "raw",
   "metadata": {},
   "source": [
    "import os\n",
    "from PIL import Image\n",
    "\n",
    "# directory names\n",
    "images_directory = \"images\"\n",
    "thumbnails_directory = \"thumbnails\"\n",
    "\n",
    "# get images fn\n",
    "def get_images():\n",
    "    \"\"\"Returns a list of .jpg files\n",
    "    in the images folder\"\"\"\n",
    "    images = []\n",
    "    for file in os.listdir(images_directory):\n",
    "        if file.endswith(\".jpg\"):\n",
    "            images.append(file)\n",
    "    return images\n",
    "\n",
    "# resize a single image fn\n",
    "def resize_image(image):\n",
    "    \"\"\"Resizes the image and saves to thumbnails_directory\"\"\"\n",
    "    im = Image.open(images_directory + \"/\" + image)\n",
    "    resized_im = im.resize((round(im.size[0] * 0.1), round(im.size[1] * 0.1)))\n",
    "    resized_im.save(thumbnails_directory + \"/\" + image)\n",
    "    print(f\"{image} resized.\")"
   ]
  },
  {
   "cell_type": "raw",
   "metadata": {
    "scrolled": false
   },
   "source": [
    "# A-\n",
    "\n",
    "from threading import Thread\n",
    "\n",
    "threads = []\n",
    "\n",
    "def resize_all_images():\n",
    "    try:\n",
    "        start = time.perf_counter()\n",
    "        images = get_images()\n",
    "        for image in images:\n",
    "            thread = Thread(target=resize_image, args=(image,))\n",
    "            thread.start()\n",
    "            threads.append(thread)\n",
    "        for thread in threads:\n",
    "            thread.join()\n",
    "        end = time.perf_counter()\n",
    "    except:\n",
    "        print(\"An Error occurred in resizing.\")\n",
    "    else:\n",
    "        print(f\"Images resized in {end - start:.2f} sec - Threading.\")"
   ]
  },
  {
   "cell_type": "raw",
   "metadata": {
    "scrolled": true
   },
   "source": [
    "# B-\n",
    "\n",
    "from threading import Thread\n",
    "\n",
    "threads = []\n",
    "\n",
    "def resize_all_images():\n",
    "    try:\n",
    "        start = time.perf_counter()\n",
    "        images = get_images()\n",
    "        for image in images:\n",
    "            thread = Thread(target=resize_image, args=(image,))\n",
    "            thread.start()\n",
    "        end = time.perf_counter()\n",
    "    except:\n",
    "        print(\"An Error occurred in resizing.\")\n",
    "    else:\n",
    "        print(f\"Images resized in {end - start:.2f} sec - Threading.\")"
   ]
  },
  {
   "cell_type": "raw",
   "metadata": {},
   "source": [
    "# C-\n",
    "\n",
    "from threading import Thread\n",
    "\n",
    "threads = []\n",
    "\n",
    "def resize_all_images():\n",
    "    try:\n",
    "        start = time.perf_counter()\n",
    "        images = get_images()\n",
    "        for image in images:\n",
    "            thread = Thread(target=resize_image, args=(image,))\n",
    "            threads.append(thread)\n",
    "        for thread in threads:\n",
    "            thread.join()\n",
    "        end = time.perf_counter()\n",
    "    except:\n",
    "        print(\"An Error occurred in resizing.\")\n",
    "    else:\n",
    "        print(f\"Images resized in {end - start:.2f} sec - Threading.\")"
   ]
  },
  {
   "cell_type": "raw",
   "metadata": {},
   "source": [
    "# D-\n",
    "\n",
    "from threading import Thread\n",
    "\n",
    "threads = []\n",
    "\n",
    "def resize_all_images():\n",
    "    try:\n",
    "        start = time.perf_counter()\n",
    "        images = get_images()\n",
    "        for image in images:\n",
    "            thread = Thread(target=resize_image, args=(image,))\n",
    "            threads.append(thread)\n",
    "        end = time.perf_counter()\n",
    "    except:\n",
    "        print(\"An Error occurred in resizing.\")\n",
    "    else:\n",
    "        print(f\"Images resized in {end - start:.2f} sec - Threading.\")"
   ]
  },
  {
   "cell_type": "markdown",
   "metadata": {},
   "source": [
    "---"
   ]
  },
  {
   "cell_type": "markdown",
   "metadata": {},
   "source": [
    "**Q 20:**\n",
    "\n",
    "Let's assume we have a folder named \"images\" which contains some image files, and an empty folder called \"thumbnails\".\n",
    "\n",
    "Let's also assume, the initial size of the \"images\" folder is around 27,5 MB with 20 images in it.\n",
    "\n",
    "The size is quite large, so we want to resize the images in this folder.\n",
    "\n",
    "We want to save the thumbnails of these images in the \"thumbnails\" folder.\n",
    "\n",
    "Thumbnail dimensions (width * height) of each image will 1/10 of the original image.\n",
    "\n",
    "And in terms of disk space, we expect the \"thumbnails\" folder to be around 200 KB.\n",
    "\n",
    "We also want to keep track of elapsed time (start & end).\n",
    "\n",
    "We want to use ThreadPoolExecutor for resize operation.\n",
    "\n",
    "We have a function named get_images() which returns a list of images in the \"images\" folder.\n",
    "\n",
    "There is also a function named resize_image() which resizes the given image based on width * height values.\n",
    "\n",
    "Which function below is defined correctly for using ThreadPoolExecutor and a list comprehension to submit() threads.?"
   ]
  },
  {
   "cell_type": "raw",
   "metadata": {},
   "source": [
    "import os\n",
    "from PIL import Image\n",
    "\n",
    "# directory names\n",
    "images_directory = \"images\"\n",
    "thumbnails_directory = \"thumbnails\"\n",
    "\n",
    "# get images fn\n",
    "def get_images():\n",
    "    \"\"\"Returns a list of .jpg files\n",
    "    in the images folder\"\"\"\n",
    "    images = []\n",
    "    for file in os.listdir(images_directory):\n",
    "        if file.endswith(\".jpg\"):\n",
    "            images.append(file)\n",
    "    return images\n",
    "\n",
    "# resize a single image fn\n",
    "def resize_image(image):\n",
    "    \"\"\"Resizes the image and saves to thumbnails_directory\"\"\"\n",
    "    im = Image.open(images_directory + \"/\" + image)\n",
    "    resized_im = im.resize((round(im.size[0] * 0.1), round(im.size[1] * 0.1)))\n",
    "    resized_im.save(thumbnails_directory + \"/\" + image)\n",
    "    print(f\"{image} resized.\")"
   ]
  },
  {
   "cell_type": "raw",
   "metadata": {},
   "source": [
    "# A-\n",
    "  \n",
    "from concurrent.futures import ThreadPoolExecutor, as_completed\n",
    "\n",
    "threads = []\n",
    "\n",
    "def resize_all_images():\n",
    "    try:\n",
    "        start = time.perf_counter()\n",
    "        images = get_images()\n",
    "        with ThreadPoolExecutor() as executor:\n",
    "            executor.submit(resize_image, image)\n",
    "            for future in as_completed(executor):\n",
    "                future.result()\n",
    "        end = time.perf_counter()\n",
    "    except:\n",
    "        print(\"An Error occurred in resizing.\")\n",
    "    else:\n",
    "        print(f\"Images resized in {end - start:.2f} sec - ThreadPoolExecutor.\")"
   ]
  },
  {
   "cell_type": "raw",
   "metadata": {},
   "source": [
    "# B-\n",
    "\n",
    "from concurrent.futures import ThreadPoolExecutor, as_completed\n",
    "\n",
    "threads = []\n",
    "\n",
    "def resize_all_images():\n",
    "    try:\n",
    "        start = time.perf_counter()\n",
    "        images = get_images()\n",
    "        with ThreadPoolExecutor() as executor:\n",
    "            future_list = [submit(resize_image, image)\n",
    "                           for image in images]\n",
    "        end = time.perf_counter()\n",
    "    except:\n",
    "        print(\"An Error occurred in resizing.\")\n",
    "    else:\n",
    "        print(f\"Images resized in {end - start:.2f} sec - ThreadPoolExecutor.\")"
   ]
  },
  {
   "cell_type": "raw",
   "metadata": {},
   "source": [
    "# C-\n",
    "\n",
    "from concurrent.futures import ThreadPoolExecutor, as_completed\n",
    "\n",
    "threads = []\n",
    "\n",
    "def resize_all_images():\n",
    "    try:\n",
    "        start = time.perf_counter()\n",
    "        images = get_images()\n",
    "        with ThreadPoolExecutor() as executor:\n",
    "            future_list = [executor.submit(resize_image, image)\n",
    "                           for image in images]\n",
    "            for future in as_completed(future_list):\n",
    "                future.result()\n",
    "        end = time.perf_counter()\n",
    "    except:\n",
    "        print(\"An Error occurred in resizing.\")\n",
    "    else:\n",
    "        print(f\"Images resized in {end - start:.2f} sec - ThreadPoolExecutor.\")"
   ]
  },
  {
   "cell_type": "raw",
   "metadata": {},
   "source": [
    "# D-\n",
    "\n",
    "from concurrent.futures import ThreadPoolExecutor, as_completed\n",
    "\n",
    "threads = []\n",
    "\n",
    "def resize_all_images():\n",
    "    try:\n",
    "        start = time.perf_counter()\n",
    "        images = get_images()\n",
    "        with ThreadPoolExecutor() as executor:\n",
    "            executor.submit(resize_image, image)\n",
    "        end = time.perf_counter()\n",
    "    except:\n",
    "        print(\"An Error occurred in resizing.\")\n",
    "    else:\n",
    "        print(f\"Images resized in {end - start:.2f} sec - ThreadPoolExecutor.\")"
   ]
  },
  {
   "cell_type": "markdown",
   "metadata": {},
   "source": [
    "---"
   ]
  }
 ],
 "metadata": {
  "kernelspec": {
   "display_name": "Python 3 (ipykernel)",
   "language": "python",
   "name": "python3"
  },
  "language_info": {
   "codemirror_mode": {
    "name": "ipython",
    "version": 3
   },
   "file_extension": ".py",
   "mimetype": "text/x-python",
   "name": "python",
   "nbconvert_exporter": "python",
   "pygments_lexer": "ipython3",
   "version": "3.10.3"
  }
 },
 "nbformat": 4,
 "nbformat_minor": 4
}
